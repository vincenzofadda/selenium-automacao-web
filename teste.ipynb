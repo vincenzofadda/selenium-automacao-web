{
 "cells": [
  {
   "cell_type": "code",
   "execution_count": 6,
   "metadata": {},
   "outputs": [
    {
     "data": {
      "text/html": [
       "<div>\n",
       "<style scoped>\n",
       "    .dataframe tbody tr th:only-of-type {\n",
       "        vertical-align: middle;\n",
       "    }\n",
       "\n",
       "    .dataframe tbody tr th {\n",
       "        vertical-align: top;\n",
       "    }\n",
       "\n",
       "    .dataframe thead th {\n",
       "        text-align: right;\n",
       "    }\n",
       "</style>\n",
       "<table border=\"1\" class=\"dataframe\">\n",
       "  <thead>\n",
       "    <tr style=\"text-align: right;\">\n",
       "      <th></th>\n",
       "      <th>Nome</th>\n",
       "      <th>Termos banidos</th>\n",
       "      <th>Preço mínimo</th>\n",
       "      <th>Preço máximo</th>\n",
       "    </tr>\n",
       "  </thead>\n",
       "  <tbody>\n",
       "    <tr>\n",
       "      <th>0</th>\n",
       "      <td>iphone 12 64gb</td>\n",
       "      <td>mini watch</td>\n",
       "      <td>3000</td>\n",
       "      <td>3500</td>\n",
       "    </tr>\n",
       "    <tr>\n",
       "      <th>1</th>\n",
       "      <td>rtx 3060</td>\n",
       "      <td>zota galax</td>\n",
       "      <td>4000</td>\n",
       "      <td>4500</td>\n",
       "    </tr>\n",
       "  </tbody>\n",
       "</table>\n",
       "</div>"
      ],
      "text/plain": [
       "             Nome Termos banidos  Preço mínimo  Preço máximo\n",
       "0  iphone 12 64gb     mini watch          3000          3500\n",
       "1        rtx 3060     zota galax          4000          4500"
      ]
     },
     "metadata": {},
     "output_type": "display_data"
    }
   ],
   "source": [
    "from selenium import webdriver\n",
    "from webdriver_manager.chrome import ChromeDriverManager\n",
    "from selenium.webdriver.common.keys import Keys\n",
    "from selenium.webdriver.common.by import By\n",
    "import pandas as pd\n",
    "\n",
    "driver = webdriver.Chrome(ChromeDriverManager().install())\n",
    "\n",
    "tabela_produtos = pd.read_excel(\"buscas.xlsx\")\n",
    "display(tabela_produtos)"
   ]
  },
  {
   "cell_type": "code",
   "execution_count": 7,
   "metadata": {},
   "outputs": [],
   "source": [
    "produto = 'iphone 12 64 gb'\n",
    "termos_banidos = '11 13 14 mini watch'\n",
    "\n",
    "preco_minimo = 3000\n",
    "preco_maximo = 3500"
   ]
  },
  {
   "cell_type": "code",
   "execution_count": 8,
   "metadata": {},
   "outputs": [],
   "source": [
    "def busca_google_shopping(driver, produto, termos_banidos, preco_minimo, preco_maximo):\n",
    "\n",
    "    produto.lower()\n",
    "    termos_banidos.lower()\n",
    "\n",
    "    lista_nomes_produto = produto.split(\" \")\n",
    "    lista_termos_banidos = termos_banidos.split(\" \")\n",
    "\n",
    "    lista_itens_encontrados = []\n",
    "\n",
    "    preco_minimo = float(preco_minimo)\n",
    "    preco_maximo = float(preco_maximo)\n",
    "\n",
    "    driver.get(\"https://www.google.com.br/\")\n",
    "\n",
    "    driver.find_element(By.XPATH, '/html/body/div[1]/div[3]/form/div[1]/div[1]/div[1]/div/div[2]/input').send_keys(produto, Keys.ENTER)\n",
    "\n",
    "    elementos = driver.find_elements(By.CLASS_NAME, 'hdtb-mitem')\n",
    "\n",
    "    for elemento in elementos:\n",
    "        if \"Shopping\" in elemento.text:\n",
    "            elemento.click()\n",
    "            break\n",
    "\n",
    "    lista_resultados = driver.find_elements(By.CLASS_NAME, 'i0X6df')\n",
    "\n",
    "    for resultado in lista_resultados:\n",
    "        nome = resultado.find_element(By.CLASS_NAME, 'tAxDx').text.lower()\n",
    "\n",
    "        tem_termos_banidos = False\n",
    "        for termo in lista_termos_banidos:\n",
    "            if termo in nome:\n",
    "                tem_termos_banidos = True\n",
    "\n",
    "        tem_lista_nomes_produto = True\n",
    "        for termo in lista_nomes_produto:\n",
    "            if termo not in nome:\n",
    "                tem_lista_nomes_produto = False\n",
    "\n",
    "        if tem_termos_banidos == False and tem_lista_nomes_produto:\n",
    "            preco = resultado.find_element(By.CLASS_NAME, 'a8Pemb').text.replace(\"R$\", \"\").replace(\" \", \"\").replace(\".\", \"\").replace(\",\", \".\")\n",
    "            preco = float(preco)\n",
    "\n",
    "            if preco_minimo <= preco <= preco_maximo:\n",
    "\n",
    "                child = resultado.find_element(By.CLASS_NAME, 'XrAfOe')\n",
    "                parent = child.find_element(By.XPATH, '..')\n",
    "                link = parent.get_attribute('href')\n",
    "\n",
    "                lista_itens_encontrados.append((nome, preco, link))\n",
    "    return lista_itens_encontrados\n",
    "\n",
    "\n",
    "\n",
    "def busca_buscape(driver, produto, termos_banidos, preco_minimo, preco_maximo):\n",
    "    produto.lower()\n",
    "    termos_banidos.lower()\n",
    "\n",
    "    lista_nomes_produto = produto.split(\" \")\n",
    "    lista_termos_banidos = termos_banidos.split(\" \")\n",
    "\n",
    "    lista_itens_encontrados = []   \n",
    "    \n",
    "    preco_minimo = float(preco_minimo)\n",
    "    preco_maximo = float(preco_maximo)\n",
    "\n",
    "    driver.get('https://www.buscape.com.br/')\n",
    "\n",
    "    driver.find_element(By.XPATH, '//*[@id=\"new-header\"]/div[1]/div/div/div[3]/div/div/div[2]/div/div[1]/input').send_keys(produto, Keys.ENTER)"
   ]
  },
  {
   "cell_type": "code",
   "execution_count": 9,
   "metadata": {},
   "outputs": [],
   "source": [
    "#lista_ofertas_google_shopping = busca_google_shopping(driver, produto, termos_banidos, preco_minimo, preco_maximo)\n",
    "#print(lista_ofertas_google_shopping)\n",
    "busca_buscape(driver, produto, termos_banidos, preco_minimo, preco_maximo)"
   ]
  }
 ],
 "metadata": {
  "kernelspec": {
   "display_name": "Python 3",
   "language": "python",
   "name": "python3"
  },
  "language_info": {
   "codemirror_mode": {
    "name": "ipython",
    "version": 3
   },
   "file_extension": ".py",
   "mimetype": "text/x-python",
   "name": "python",
   "nbconvert_exporter": "python",
   "pygments_lexer": "ipython3",
   "version": "3.10.4"
  },
  "orig_nbformat": 4,
  "vscode": {
   "interpreter": {
    "hash": "ca39f88a2d38a95affbacc4b81fd00a2dd957c0206b925676ce258144ab36f3b"
   }
  }
 },
 "nbformat": 4,
 "nbformat_minor": 2
}
