{
 "cells": [
  {
   "cell_type": "code",
   "execution_count": null,
   "metadata": {},
   "outputs": [],
   "source": [
    "from selenium import webdriver\n",
    "from webdriver_manager.chrome import ChromeDriverManager\n",
    "from selenium.webdriver.common.keys import Keys\n",
    "from selenium.webdriver.common.by import By\n",
    "import pandas as pd\n",
    "\n",
    "driver = webdriver.Chrome(ChromeDriverManager().install())\n",
    "\n",
    "tabela_produtos = pd.read_excel(\"buscas.xlsx\")\n",
    "display(tabela_produtos)"
   ]
  },
  {
   "cell_type": "code",
   "execution_count": null,
   "metadata": {},
   "outputs": [],
   "source": [
    "produto = 'iphone 12 64 gb'\n",
    "termos_banidos = '11 13 14 mini watch'\n",
    "\n",
    "preco_minimo = 3000\n",
    "preco_maximo = 3500"
   ]
  },
  {
   "cell_type": "code",
   "execution_count": null,
   "metadata": {},
   "outputs": [],
   "source": [
    "def busca_google_shopping(driver, produto, termos_banidos, preco_minimo, preco_maximo):\n",
    "\n",
    "    produto.lower()\n",
    "    termos_banidos.lower()\n",
    "\n",
    "    lista_nomes_produto = produto.split(\" \")\n",
    "    lista_termos_banidos = termos_banidos.split(\" \")\n",
    "\n",
    "    lista_itens_encontrados = []\n",
    "\n",
    "    preco_minimo = float(preco_minimo)\n",
    "    preco_maximo = float(preco_maximo)\n",
    "\n",
    "    driver.get(\"https://www.google.com.br/\")\n",
    "\n",
    "    driver.find_element(By.XPATH, '/html/body/div[1]/div[3]/form/div[1]/div[1]/div[1]/div/div[2]/input').send_keys(produto, Keys.ENTER)\n",
    "\n",
    "    elementos = driver.find_elements(By.CLASS_NAME, 'hdtb-mitem')\n",
    "\n",
    "    for elemento in elementos:\n",
    "        if \"Shopping\" in elemento.text:\n",
    "            elemento.click()\n",
    "            break\n",
    "\n",
    "    lista_resultados = driver.find_elements(By.CLASS_NAME, 'i0X6df')\n",
    "\n",
    "    for resultado in lista_resultados:\n",
    "        nome = resultado.find_element(By.CLASS_NAME, 'tAxDx').text.lower()\n",
    "\n",
    "        tem_termos_banidos = False\n",
    "        for termo in lista_termos_banidos:\n",
    "            if termo in nome:\n",
    "                tem_termos_banidos = True\n",
    "\n",
    "        tem_lista_nomes_produto = True\n",
    "        for termo in lista_nomes_produto:\n",
    "            if termo not in nome:\n",
    "                tem_lista_nomes_produto = False\n",
    "\n",
    "        if tem_termos_banidos == False and tem_lista_nomes_produto:\n",
    "            preco = resultado.find_element(By.CLASS_NAME, 'a8Pemb').text.replace(\"R$\", \"\").replace(\" \", \"\").replace(\".\", \"\").replace(\",\", \".\")\n",
    "            preco = float(preco)\n",
    "\n",
    "            if preco_minimo <= preco <= preco_maximo:\n",
    "\n",
    "                child = resultado.find_element(By.CLASS_NAME, 'XrAfOe')\n",
    "                parent = child.find_element(By.XPATH, '..')\n",
    "                link = parent.get_attribute('href')\n",
    "\n",
    "                lista_itens_encontrados.append((nome, preco, link))\n",
    "    return lista_itens_encontrados\n",
    "\n",
    "\n",
    "\n",
    "    def busca_buscape(driver, produto, termos_banidos, preco_minimo, preco_maximo):\n",
    "        produto.lower()\n",
    "        termos_banidos.lower()\n",
    "\n",
    "        lista_nomes_produto = produto.split(\" \")\n",
    "        lista_termos_banidos = termos_banidos.split(\" \")\n",
    "\n",
    "        lista_itens_encontrados = []   \n",
    "    \n",
    "        preco_minimo = float(preco_minimo)\n",
    "        preco_maximo = float(preco_maximo)\n",
    "\n",
    "        driver.get('https://www.buscape.com.br/')\n",
    "\n",
    "        driver.find_element(By.XPATH, '//*[@id=\"new-header\"]/div[1]/div/div/div[3]/div/div/div[2]/div/div[1]/input').send_keys(produto, Keys.ENTER)"
   ]
  },
  {
   "cell_type": "code",
   "execution_count": null,
   "metadata": {},
   "outputs": [],
   "source": [
    "lista_ofertas_google_shopping = busca_google_shopping(driver, produto, termos_banidos, preco_minimo, preco_maximo)\n",
    "print(lista_ofertas_google_shopping)"
   ]
  }
 ],
 "metadata": {
  "kernelspec": {
   "display_name": "Python 3",
   "language": "python",
   "name": "python3"
  },
  "language_info": {
   "codemirror_mode": {
    "name": "ipython",
    "version": 3
   },
   "file_extension": ".py",
   "mimetype": "text/x-python",
   "name": "python",
   "nbconvert_exporter": "python",
   "pygments_lexer": "ipython3",
   "version": "3.10.4 (tags/v3.10.4:9d38120, Mar 23 2022, 23:13:41) [MSC v.1929 64 bit (AMD64)]"
  },
  "orig_nbformat": 4,
  "vscode": {
   "interpreter": {
    "hash": "ca39f88a2d38a95affbacc4b81fd00a2dd957c0206b925676ce258144ab36f3b"
   }
  }
 },
 "nbformat": 4,
 "nbformat_minor": 2
}
