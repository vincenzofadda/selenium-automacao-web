{
 "cells": [
  {
   "cell_type": "code",
   "execution_count": 43,
   "metadata": {},
   "outputs": [
    {
     "data": {
      "text/html": [
       "<div>\n",
       "<style scoped>\n",
       "    .dataframe tbody tr th:only-of-type {\n",
       "        vertical-align: middle;\n",
       "    }\n",
       "\n",
       "    .dataframe tbody tr th {\n",
       "        vertical-align: top;\n",
       "    }\n",
       "\n",
       "    .dataframe thead th {\n",
       "        text-align: right;\n",
       "    }\n",
       "</style>\n",
       "<table border=\"1\" class=\"dataframe\">\n",
       "  <thead>\n",
       "    <tr style=\"text-align: right;\">\n",
       "      <th></th>\n",
       "      <th>Nome</th>\n",
       "      <th>Termos banidos</th>\n",
       "      <th>Preço mínimo</th>\n",
       "      <th>Preço máximo</th>\n",
       "    </tr>\n",
       "  </thead>\n",
       "  <tbody>\n",
       "    <tr>\n",
       "      <th>0</th>\n",
       "      <td>iphone 12 64gb</td>\n",
       "      <td>mini watch</td>\n",
       "      <td>3000</td>\n",
       "      <td>3500</td>\n",
       "    </tr>\n",
       "    <tr>\n",
       "      <th>1</th>\n",
       "      <td>rtx 3060</td>\n",
       "      <td>zota galax</td>\n",
       "      <td>4000</td>\n",
       "      <td>4500</td>\n",
       "    </tr>\n",
       "  </tbody>\n",
       "</table>\n",
       "</div>"
      ],
      "text/plain": [
       "             Nome Termos banidos  Preço mínimo  Preço máximo\n",
       "0  iphone 12 64gb     mini watch          3000          3500\n",
       "1        rtx 3060     zota galax          4000          4500"
      ]
     },
     "metadata": {},
     "output_type": "display_data"
    }
   ],
   "source": [
    "from selenium import webdriver\n",
    "from webdriver_manager.chrome import ChromeDriverManager\n",
    "from selenium.webdriver.common.keys import Keys\n",
    "from selenium.webdriver.common.by import By\n",
    "import pandas as pd\n",
    "\n",
    "driver = webdriver.Chrome(ChromeDriverManager().install())\n",
    "\n",
    "tabela_produtos = pd.read_excel(\"buscas.xlsx\")\n",
    "display(tabela_produtos)"
   ]
  },
  {
   "cell_type": "code",
   "execution_count": 44,
   "metadata": {},
   "outputs": [],
   "source": [
    "produto = 'iphone 12 64 gb'\n",
    "termos_banidos = '11 13 14 mini watch'\n",
    "\n",
    "preco_minimo = 3000\n",
    "preco_maximo = 3500"
   ]
  },
  {
   "cell_type": "code",
   "execution_count": 45,
   "metadata": {},
   "outputs": [],
   "source": [
    "def busca_google_shopping(driver, produto, termos_banidos, preco_minimo, preco_maximo):\n",
    "\n",
    "    produto.lower()\n",
    "    termos_banidos.lower()\n",
    "\n",
    "    lista_nomes_produto = produto.split(\" \")\n",
    "    lista_termos_banidos = termos_banidos.split(\" \")\n",
    "\n",
    "    lista_itens_encontrados = []\n",
    "\n",
    "    driver.get(\"https://www.google.com.br/\")\n",
    "\n",
    "    driver.find_element(By.XPATH, '/html/body/div[1]/div[3]/form/div[1]/div[1]/div[1]/div/div[2]/input').send_keys(produto)\n",
    "    driver.find_element(By.XPATH, '/html/body/div[1]/div[3]/form/div[1]/div[1]/div[1]/div/div[2]/input').send_keys(Keys.ENTER)\n",
    "\n",
    "    elementos = driver.find_elements(By.CLASS_NAME, 'hdtb-mitem')\n",
    "\n",
    "    for elemento in elementos:\n",
    "        if \"Shopping\" in elemento.text:\n",
    "            elemento.click()\n",
    "            break\n",
    "\n",
    "    lista_resultados = driver.find_elements(By.CLASS_NAME, 'i0X6df')\n",
    "\n",
    "    for resultado in lista_resultados:\n",
    "        nome = resultado.find_element(By.CLASS_NAME, 'tAxDx').text.lower()\n",
    "\n",
    "        tem_termos_banidos = False\n",
    "        for termo in lista_termos_banidos:\n",
    "            if termo in nome:\n",
    "                tem_termos_banidos = True\n",
    "\n",
    "        tem_lista_nomes_produto = True\n",
    "        for termo in lista_nomes_produto:\n",
    "            if termo not in nome:\n",
    "                tem_lista_nomes_produto = False\n",
    "\n",
    "        if tem_termos_banidos == False and tem_lista_nomes_produto:\n",
    "            preco = resultado.find_element(By.CLASS_NAME, 'a8Pemb').text.replace(\"R$\", \"\").replace(\" \", \"\").replace(\".\", \"\").replace(\",\", \".\")\n",
    "            preco = float(preco)\n",
    "\n",
    "            preco_minimo = float(preco_minimo)\n",
    "            preco_maximo = float(preco_maximo)\n",
    "\n",
    "            if preco_minimo <= preco <= preco_maximo:\n",
    "\n",
    "                child = resultado.find_element(By.CLASS_NAME, 'XrAfOe')\n",
    "                parent = child.find_element(By.XPATH, '..')\n",
    "                link = parent.get_attribute('href')\n",
    "\n",
    "                lista_itens_encontrados.append((nome, preco, link))\n",
    "    return lista_itens_encontrados\n",
    "\n",
    "\n",
    "\n",
    "    def busca_buscape(driver, produto, termos_banidos, preco_minimo, preco_maximo):\n",
    "        "
   ]
  },
  {
   "cell_type": "code",
   "execution_count": 46,
   "metadata": {},
   "outputs": [
    {
     "name": "stdout",
     "output_type": "stream",
     "text": [
      "[('iphone 12 64gb roxo vitrine', 3300.0, 'https://www.google.com.br/url?url=https://loja.switchphone.com.br/iphone-12-64gb-roxo-vitrine%3Fsrsltid%3DAd5pg_HctguCm9bQvWxqgURp-IQqQ7843JGWLD1JnHpqmJp4gejEMfSaAtE&rct=j&q=&esrc=s&sa=U&ved=0ahUKEwj1_qHOquP8AhXOqpUCHennAXsQgOUECN8L&usg=AOvVaw2119fnUn1eIS3PXRnBr6Oq'), ('iphone 12 64gb preto vitrine', 3300.0, 'https://www.google.com.br/url?url=https://loja.switchphone.com.br/iphone-12-64gb-preto-vitrine%3Fsrsltid%3DAd5pg_EMJ6TiUf2pjqO1Y6s6VqR05JSjhP93zTYLUaIOXDTm4aXFOWqpKBQ&rct=j&q=&esrc=s&sa=U&ved=0ahUKEwj1_qHOquP8AhXOqpUCHennAXsQgOUECJ0M&usg=AOvVaw1FKFQUt0OXgKJ-U4QC_rqx'), ('iphone 12 64gb - azul - estou zerado', 3329.1, 'https://www.google.com.br/url?url=https://www.trocafy.com.br/iphone-12-64gb-azul-sou-como-novo-2552/p%3Fidsku%3D966%26srsltid%3DAd5pg_Htvam3hw9v3vHM_GxsrHNQnqfDmp5mQwONTaOXvY9bHjGLM7EPq2o&rct=j&q=&esrc=s&sa=U&ved=0ahUKEwj1_qHOquP8AhXOqpUCHennAXsQguUECK0M&usg=AOvVaw2T4z8uTvBkB6_WB7gHKZVt'), ('iphone 12 64gb azul vitrine', 3300.0, 'https://www.google.com.br/url?url=http://loja.switchphone.com.br/iphone-12-64gb-azul-vitrine%3Fsrsltid%3DAd5pg_GSu3cPyFW09Bk5NhHB_9CsCNcXWzVrUOZmmngbr3WjTKTRBJMovak&rct=j&q=&esrc=s&sa=U&ved=0ahUKEwj1_qHOquP8AhXOqpUCHennAXsQgOUECN0M&usg=AOvVaw1ZX4iIKf9uLshRIYpc6IQT'), ('(seminovo) iphone 12 apple azul, 64gb', 3399.15, 'https://www.google.com.br/url?url=https://www.taqi.com.br/seminovo-apple-iphone-12-64gb-azul-internacional-taqi/222835%3Fsrsltid%3DAd5pg_HYT22VLNDj5MfnBKSLeqQajwWOuVb6V77PUc7heDpBctDZoBNwmSQ&rct=j&q=&esrc=s&sa=U&ved=0ahUKEwj1_qHOquP8AhXOqpUCHennAXsQgOUECMkQ&usg=AOvVaw2Sd3WB52LvpMVfYxTLv-Rb'), ('iphone 12 64gb branco seminovo novinho', 3495.0, 'https://www.google.com.br/url?url=https://www.ztcompras.com/produtos/iphone-12-64gb-branco-seminovo-novinho/&rct=j&q=&esrc=s&sa=U&ved=0ahUKEwj1_qHOquP8AhXOqpUCHennAXsQgOUECKoR&usg=AOvVaw3DwZrmjjF0gC_91Ta19fhA'), ('iphone 12 64gb vermelho vitrine', 3300.0, 'https://www.google.com.br/url?url=https://loja.switchphone.com.br/iphone-12-64gb-vermelho-vitrine%3Fsrsltid%3DAd5pg_GoxSV1UsQpPuHU5aVdmwPE6lIBS50dFQUrewP5thxODGMs4ZJgvCk&rct=j&q=&esrc=s&sa=U&ved=0ahUKEwj1_qHOquP8AhXOqpUCHennAXsQgOUECPQR&usg=AOvVaw1Skdrp04DdcGevIVucbfUd'), ('(seminovos) iphone 12 apple preto, 64gb', 3399.15, 'https://www.google.com.br/url?url=https://www.taqi.com.br/seminovos-usado-apple-iphone-12-preto-nacional/221635%3Fsrsltid%3DAd5pg_FYWk6qbSU42Zzv1CXxKIB08HtseqUT7jA9rkbdI4chvNLhIGV2NNE&rct=j&q=&esrc=s&sa=U&ved=0ahUKEwj1_qHOquP8AhXOqpUCHennAXsQgOUECJIS&usg=AOvVaw1VGeC77UcwXE9QP5C2zEOK')]\n"
     ]
    }
   ],
   "source": [
    "lista_ofertas_google_shopping = busca_google_shopping(driver, produto, termos_banidos, preco_minimo, preco_maximo)\n",
    "print(lista_ofertas_google_shopping)"
   ]
  }
 ],
 "metadata": {
  "kernelspec": {
   "display_name": "Python 3",
   "language": "python",
   "name": "python3"
  },
  "language_info": {
   "codemirror_mode": {
    "name": "ipython",
    "version": 3
   },
   "file_extension": ".py",
   "mimetype": "text/x-python",
   "name": "python",
   "nbconvert_exporter": "python",
   "pygments_lexer": "ipython3",
   "version": "3.10.4 (tags/v3.10.4:9d38120, Mar 23 2022, 23:13:41) [MSC v.1929 64 bit (AMD64)]"
  },
  "orig_nbformat": 4,
  "vscode": {
   "interpreter": {
    "hash": "ca39f88a2d38a95affbacc4b81fd00a2dd957c0206b925676ce258144ab36f3b"
   }
  }
 },
 "nbformat": 4,
 "nbformat_minor": 2
}
