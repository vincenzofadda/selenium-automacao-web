{
 "cells": [
  {
   "cell_type": "code",
   "execution_count": 11,
   "metadata": {},
   "outputs": [
    {
     "data": {
      "text/html": [
       "<div>\n",
       "<style scoped>\n",
       "    .dataframe tbody tr th:only-of-type {\n",
       "        vertical-align: middle;\n",
       "    }\n",
       "\n",
       "    .dataframe tbody tr th {\n",
       "        vertical-align: top;\n",
       "    }\n",
       "\n",
       "    .dataframe thead th {\n",
       "        text-align: right;\n",
       "    }\n",
       "</style>\n",
       "<table border=\"1\" class=\"dataframe\">\n",
       "  <thead>\n",
       "    <tr style=\"text-align: right;\">\n",
       "      <th></th>\n",
       "      <th>Nome</th>\n",
       "      <th>Termos banidos</th>\n",
       "      <th>Preço mínimo</th>\n",
       "      <th>Preço máximo</th>\n",
       "    </tr>\n",
       "  </thead>\n",
       "  <tbody>\n",
       "    <tr>\n",
       "      <th>0</th>\n",
       "      <td>iphone 12 64gb</td>\n",
       "      <td>mini watch</td>\n",
       "      <td>3000</td>\n",
       "      <td>3500</td>\n",
       "    </tr>\n",
       "    <tr>\n",
       "      <th>1</th>\n",
       "      <td>rtx 3060</td>\n",
       "      <td>zota galax</td>\n",
       "      <td>4000</td>\n",
       "      <td>4500</td>\n",
       "    </tr>\n",
       "  </tbody>\n",
       "</table>\n",
       "</div>"
      ],
      "text/plain": [
       "             Nome Termos banidos  Preço mínimo  Preço máximo\n",
       "0  iphone 12 64gb     mini watch          3000          3500\n",
       "1        rtx 3060     zota galax          4000          4500"
      ]
     },
     "metadata": {},
     "output_type": "display_data"
    }
   ],
   "source": [
    "from selenium import webdriver\n",
    "from webdriver_manager.chrome import ChromeDriverManager\n",
    "from selenium.webdriver.common.keys import Keys\n",
    "from selenium.webdriver.common.by import By\n",
    "import pandas as pd\n",
    "\n",
    "driver = webdriver.Chrome(ChromeDriverManager().install())\n",
    "\n",
    "tabela_produtos = pd.read_excel(\"buscas.xlsx\")\n",
    "display(tabela_produtos)"
   ]
  },
  {
   "cell_type": "code",
   "execution_count": 12,
   "metadata": {},
   "outputs": [
    {
     "name": "stdout",
     "output_type": "stream",
     "text": [
      "  https://www.google.com.br/url?url=https://www.amazon.com.br/Apple-iPhone-12-64-GB-Branco/dp/B09B7X1814%3Fsource%3Dps-sl-shoppingads-lpcontext%26ref_%3Dfplfs%26psc%3D1%26smid%3DA1ZZFT5FULY4LN&rct=j&q=&esrc=s&sa=U&ved=0ahUKEwi_-dSOvuH8AhVBqpUCHT32Av8QguUECMkL&usg=AOvVaw3ZCNjrmRTQbjVyO0ceSMXs\n",
      "R$ 4.684,06 iPhone 12 Mini 64 Gb - Preto Apple https://www.google.com.br/url?url=https://www.ibyte.com.br/iphone-12-mini-apple-preto-64gb-desbloqueado-mgdx3bz-a/p&rct=j&q=&esrc=s&sa=U&ved=0ahUKEwi_-dSOvuH8AhVBqpUCHT32Av8QguUECOEL&usg=AOvVaw0pUhtpXwaar85stbJvpzbc\n",
      "R$ 3.799,05 Vitrine: iPhone 12 Apple 64GB Azul Tela 6,1 Câmera Traseira Dupla 12MP https://www.google.com.br/url?url=https://www.carrefour.com.br/vitrine-iphone-12-apple-64gb-azul-tela-61-camera-traseira-dupla-12mp-mp911874363/p&rct=j&q=&esrc=s&sa=U&ved=0ahUKEwi_-dSOvuH8AhVBqpUCHT32Av8QguUECPIL&usg=AOvVaw1QXTHBbDi1PYbH9058evun\n",
      "R$ 3.329,10 iPhone 12 64GB - Azul - Estou Zerado https://www.google.com.br/url?url=https://www.trocafy.com.br/iphone-12-64gb-azul-sou-como-novo-2552/p%3Fidsku%3D966%26srsltid%3DAd5pg_GeDt8yZP1x6Gp1ajq2XG-_JalmemYViTZ_w2qvkrEsB6UG5f0Dd7U&rct=j&q=&esrc=s&sa=U&ved=0ahUKEwi_-dSOvuH8AhVBqpUCHT32Av8QguUECIMM&usg=AOvVaw0WDQGeqRxedMNwTfm2VUqH\n",
      "R$ 4.699,00 iPhone 12 Apple (64GB) Azul, Tela De 6,1, 5G E Câmera Dupla De 12 Mp https://www.google.com.br/url?url=https://www.magazineluiza.com.br/iphone-12-apple-64gb-azul-tela-de-61-5g-e-camera-dupla-de-12-mp/p/af7jf3069b/te/ip12/%3F%3D%26seller_id%3Dfastshop2%26region_id%3D123461&rct=j&q=&esrc=s&sa=U&ved=0ahUKEwi_-dSOvuH8AhVBqpUCHT32Av8QguUECJYM&usg=AOvVaw2oWJmbOI-oyP4Tb1vt-QAj\n",
      "R$ 5.997,50 iPhone 12 Apple (64GB) Preto Tela 6,1\" 5G Câmera 12MP + 12MP Ios https://www.google.com.br/url?url=https://www.shoptime.com.br/produto/3614407323%3Fopn%3DGOOGLEXML%26offerId%3D611c21f0871ea274bc5715cb&rct=j&q=&esrc=s&sa=U&ved=0ahUKEwi_-dSOvuH8AhVBqpUCHT32Av8QguUECKcM&usg=AOvVaw1NkTBicrt53WAmhZqtTHPJ\n",
      "R$ 3.999,00 iPhone 12 Apple, 64GB - Preto https://www.google.com.br/url?url=https://www.noxusit.com.br/produto/iphone-12-apple-64gb-preto.html%3Futm_source%3DSite%26utm_medium%3DGoogleMerchant%26utm_campaign%3DGoogleMerchant&rct=j&q=&esrc=s&sa=U&ved=0ahUKEwi_-dSOvuH8AhVBqpUCHT32Av8QguUECLgM&usg=AOvVaw25K-IAdf9Ymc5eWotj3nR0\n",
      "R$ 3.300,00 iPhone 12 64gb Roxo Vitrine https://www.google.com.br/url?url=https://loja.switchphone.com.br/iphone-12-64gb-roxo-vitrine%3Fsrsltid%3DAd5pg_H1VhG5ihzx7iUi7YdwXEPxMHMOI9Ri9qSgdBfAS-N8_zW-G7o--Ug&rct=j&q=&esrc=s&sa=U&ved=0ahUKEwi_-dSOvuH8AhVBqpUCHT32Av8QgOUECMcM&usg=AOvVaw2vF-rzLXFq7bycVPpt_JEF\n",
      "R$ 4.949,10 Kit Iphone 12 64gb - Azul'' https://www.google.com.br/url?url=https://loja.stentor.com.br/shop/produto.php%3Fid%3D44566&rct=j&q=&esrc=s&sa=U&ved=0ahUKEwi_-dSOvuH8AhVBqpUCHT32Av8QgOUECNYM&usg=AOvVaw2TleB566E9k9R3ldSkpvVk\n",
      "R$ 4.249,00 iPhone 12 64GB Branco + brinde https://www.google.com.br/url?url=https://www.malibushop.com.br/apple/iphone-12-64gb-branco-brinde%3Fparceiro%3D1538%26srsltid%3DAd5pg_EphMKGbEXtOdLx9g7GSJ2BuAWVlqIv26iQaxznv3DTeEgqWOVtors&rct=j&q=&esrc=s&sa=U&ved=0ahUKEwi_-dSOvuH8AhVBqpUCHT32Av8QgOUECOUM&usg=AOvVaw3uzqIY7SvIcyuO9s05im_e\n",
      "R$ 4.650,00 Apple iPhone 12 (64 Gb) - Preto https://www.google.com.br/url?url=https://alltecheletronicos.mercadoshops.com.br/MLB-2707285752-apple-iphone-12-64-gb-preto-_JM&rct=j&q=&esrc=s&sa=U&ved=0ahUKEwi_-dSOvuH8AhVBqpUCHT32Av8QgOUECPQM&usg=AOvVaw2Ry3TXsx4mwLdHPaGi-NPn\n",
      "R$ 5.199,00 iPhone 12 Roxo Apple 64gb (novo, Lacrado) https://www.google.com.br/url?url=https://produto.mercadolivre.com.br/MLB-3001920644-iphone-12-roxo-apple-64gb-novo-lacrado-_JM%3Fmatt_tool%3D18956390%26utm_source%3Dgoogle_shopping%26utm_medium%3Dorganic&rct=j&q=&esrc=s&sa=U&ved=0ahUKEwi_-dSOvuH8AhVBqpUCHT32Av8QgOUECIMN&usg=AOvVaw1tCbFD3bed3ltVQWda8UyQ\n",
      "R$ 3.333,00 iPhone 12 Preto 64gb https://www.google.com.br/url?url=https://rj.olx.com.br/rio-de-janeiro-e-regiao/celulares/iphone-12-preto-64gb-1119236185&rct=j&q=&esrc=s&sa=U&ved=0ahUKEwi_-dSOvuH8AhVBqpUCHT32Av8QgOUECJIN&usg=AOvVaw3bqbjtcFxFFvGZ6jY_1al3\n",
      "R$ 90,00 Apple - Caixa de iPhone Usada - iPhone 12 Vermelho 64GB https://www.google.com.br/url?url=https://loja.tudoiphone.com.br/itens-apple/caixa-de-iphone-usada-iphone-12-vermelho-64gb%3Fparceiro%3D6237&rct=j&q=&esrc=s&sa=U&ved=0ahUKEwi_-dSOvuH8AhVBqpUCHT32Av8QgOUECKQN&usg=AOvVaw2_trb8AN8ana_13iHA3Mkv\n",
      "R$ 4.439,00 Vitrine: iPhone 12 Apple 64GB Preto Tela 6,1 Câmera Traseira Dupla 12MP Ios https://www.google.com.br/url?url=https://www.kabum.com.br/produto/233224/iphone-12-apple-64gb-preto-tela-6-1-camera-traseira-dupla-12mp-ios-usado%3Fsrsltid%3DAd5pg_G3xrJZ-YUqHZL21H2bRKE41J6nxrdg3pmAcqzm-stEpcKb0ZVas84&rct=j&q=&esrc=s&sa=U&ved=0ahUKEwi_-dSOvuH8AhVBqpUCHT32Av8QguUECLQN&usg=AOvVaw3x0d5IhlAU9IR7yazpTzLw\n",
      "R$ 4.015,00 Iphone 12 64gb | Celular Iphone | Usado https://www.google.com.br/url?url=https://www.enjoei.com.br/p/iphone-12-64gb-78829276%3Fg_campaign%3Dgoogle_shopping&rct=j&q=&esrc=s&sa=U&ved=0ahUKEwi_-dSOvuH8AhVBqpUCHT32Av8QgOUECMQN&usg=AOvVaw2ByiCCumaaOZ-P1W1WqnF_\n",
      "R$ 6.937,00 iPhone 12 Apple 256 GB Tela 6.1 Roxo https://www.google.com.br/url?url=https://www.bemol.com.br/iphone-12-apple-256gb-roxo-tela-6-1-ios-14-p1096614%3Ftsid%3D16&rct=j&q=&esrc=s&sa=U&ved=0ahUKEwi_-dSOvuH8AhVBqpUCHT32Av8QguUECNYN&usg=AOvVaw3rP-g6anCPPZiOnpsZwavd\n",
      "R$ 5.219,91 iPhone 12 Apple 64GB Tela 6.1 Sem Carregador e Fone | Branco (S/V) https://www.google.com.br/url?url=https://www.lojasmm.com/iphone-12-apple-64gb-tela-6-1-sem-carregador-e-fone/p%3Fidsku%3D2774&rct=j&q=&esrc=s&sa=U&ved=0ahUKEwi_-dSOvuH8AhVBqpUCHT32Av8QgOUECOUN&usg=AOvVaw3fw4EG4oL5ZgIHVKRPvMJY\n",
      "R$ 3.300,00 iPhone 12 64gb Azul Vitrine https://www.google.com.br/url?url=http://loja.switchphone.com.br/iphone-12-64gb-azul-vitrine%3Fsrsltid%3DAd5pg_HDbSH9zUs37zmhzrvUC0KQyP4yKajmWF24-VIUzJbw2bhe7K2kgOA&rct=j&q=&esrc=s&sa=U&ved=0ahUKEwi_-dSOvuH8AhVBqpUCHT32Av8QgOUECPQN&usg=AOvVaw0SV8Rp9k-ycnEPfB5d6v71\n",
      "R$ 5.109,76 Iphone 12 Roxo (Novo) (64, Roxo) https://www.google.com.br/url?url=https://nextphonesbrasil.com.br/produtos/iphone-12-roxo-novo/%3Fvariant%3D457703260&rct=j&q=&esrc=s&sa=U&ved=0ahUKEwi_-dSOvuH8AhVBqpUCHT32Av8QgOUECIMO&usg=AOvVaw35a4JB8YAzVACBy_vQYThN\n",
      "R$ 4.499,00 iPhone 12 128 Gb Preto https://www.google.com.br/url?url=https://www.imobilecelulares.com.br/apple/iphone-12-apple-128gb-preto-tela-6-1-1d-cam-dupla-12mp-ios%3Fparceiro%3D4713&rct=j&q=&esrc=s&sa=U&ved=0ahUKEwi_-dSOvuH8AhVBqpUCHT32Av8QguUECJMO&usg=AOvVaw1SH7iFVpP6eS1hOxQelqmQ\n",
      "R$ 4.249,00 iPhone 12 64GB Preto + brinde https://www.google.com.br/url?url=https://www.malibushop.com.br/apple/iphone-12-64gb-preto-brinde%3Fparceiro%3D1538%26srsltid%3DAd5pg_FrNnadNg5HZ80EHKe8ERv-8nO7NQbkQ8g4w6cENrJvbZ7hFG6QEkI&rct=j&q=&esrc=s&sa=U&ved=0ahUKEwi_-dSOvuH8AhVBqpUCHT32Av8QgOUECKIO&usg=AOvVaw1qvHp3SPZCaNL5GmOk2s75\n",
      "R$ 3.919,00 Apple iPhone 12 Verde 256GB https://www.google.com.br/url?url=https://www.tecnotec.com.br/produto/smartphone-apple-iphone-12-mini-256gb-verde/%3Futm_source%3DGoogle%2520Shopping%26utm_campaign%3DFEEDBR%26utm_medium%3Dcpc%26utm_term%3D7149%26srsltid%3DAd5pg_E8bd_61JLPr3WmStTYT-JP527YMoyyG30rAQu0Suw-jiqa5a9OLjI&rct=j&q=&esrc=s&sa=U&ved=0ahUKEwi_-dSOvuH8AhVBqpUCHT32Av8QguUECLEO&usg=AOvVaw0wcdSHeqyVT_dSOJ7IdCPX\n",
      "R$ 4.999,00 Iphone 12 64Gb Tela 6.1 Sem Carregador E Fone Apple https://www.google.com.br/url?url=https://www.carrefour.com.br/iphone-12-64gb-tela-61-sem-carregador-e-fone-apple-mp922605715/p&rct=j&q=&esrc=s&sa=U&ved=0ahUKEwi_-dSOvuH8AhVBqpUCHT32Av8QgOUECMEO&usg=AOvVaw37uShxoSCfOgQ6HCGt2opZ\n",
      "R$ 4.049,10 Kit Iphone 12 Apple 64gb Branco Tela 6,1” 12mp Ios'' https://www.google.com.br/url?url=https://loja.stentor.com.br/shop/produto.php%3Fid%3D44414&rct=j&q=&esrc=s&sa=U&ved=0ahUKEwi_-dSOvuH8AhVBqpUCHT32Av8QgOUECM8O&usg=AOvVaw3xXrWtEFf2WBuXXwv7vrRB\n",
      "R$ 4.436,24 iPhone 12 64GB Tela 6.1 Sem Carregador e Fone Apple, Preto https://www.google.com.br/url?url=https://www.magazineluiza.com.br/iphone-12-64gb-tela-6-1-sem-carregador-e-fone-apple/p/cekdf2k7k9/te/ip12/%3F%26seller_id%3Dlojasmm&rct=j&q=&esrc=s&sa=U&ved=0ahUKEwi_-dSOvuH8AhVBqpUCHT32Av8QgOUECN4O&usg=AOvVaw3zYZ0cJ89zxHJEZgiDEQkT\n",
      "R$ 90,00 Apple - Caixa de iPhone Usada - iPhone 12 Mini Branco 64GB https://www.google.com.br/url?url=https://loja.tudoiphone.com.br/itens-apple/caixa-de-iphone-usada-iphone-12-mini-branco-64gb%3Fparceiro%3D6237&rct=j&q=&esrc=s&sa=U&ved=0ahUKEwi_-dSOvuH8AhVBqpUCHT32Av8QgOUECO8O&usg=AOvVaw34uHS2kI5fv21eVROJb7X-\n",
      "R$ 2.645,00 Apple iPhone 12, 64 GB, (produto) vermelho - totalmente desbloqueado... https://www.google.com.br/url?url=https://tiendamia.com/br/producto%3Famz%3DB08PNXBKN5&rct=j&q=&esrc=s&sa=U&ved=0ahUKEwi_-dSOvuH8AhVBqpUCHT32Av8QgOUECP4O&usg=AOvVaw0fiGFPpN51_4KXUEULTAmo\n",
      "R$ 5.515,00 Iphone 12 64gb | Celular Apple | Usado https://www.google.com.br/url?url=https://www.enjoei.com.br/p/iphone-12-64gb-61401379%3Fg_campaign%3Dgoogle_shopping&rct=j&q=&esrc=s&sa=U&ved=0ahUKEwi_-dSOvuH8AhVBqpUCHT32Av8QgOUECI4P&usg=AOvVaw0DKS-RcvU9XWQesYt5MeM9\n",
      "R$ 8.958,95 Smartphone Apple iPhone 12 64GB Câmera Dupla Vermelho https://www.google.com.br/url?url=https://lojamwo.com.br/produto/smartphone-apple-iphone-12-64gb-camera-dupla/%3Fattribute_cor%3DVermelho%26utm_source%3DGoogle%2520Shopping%26utm_campaign%3DCampanha%2520-%2520Feed%2520Google%2520MWO%26utm_medium%3Dcpc%26utm_term%3D6457%26srsltid%3DAd5pg_Er4r5FS5xQhBr3gPGjS3-wAM_bSCPgSFBgyCzXQOit5gmQknfoJck&rct=j&q=&esrc=s&sa=U&ved=0ahUKEwi_-dSOvuH8AhVBqpUCHT32Av8QgOUECJ4P&usg=AOvVaw0ts0pWkjcQwbNxV4r5TgiQ\n",
      "R$ 5.999,00 Apple iPhone 12 (256 GB) - Branco https://www.google.com.br/url?url=https://www.mercadolivre.com.br/apple-iphone-12-256-gb-branco/p/MLB16163657%3Fmatt_tool%3D18956390%26utm_source%3Dgoogle_shopping%26utm_medium%3Dorganic&rct=j&q=&esrc=s&sa=U&ved=0ahUKEwi_-dSOvuH8AhVBqpUCHT32Av8QguUECK4P&usg=AOvVaw1j-JGD51r_nIOj5os1Zopw\n",
      "R$ 3.300,00 iPhone 12 64gb Vermelho Vitrine https://www.google.com.br/url?url=https://loja.switchphone.com.br/iphone-12-64gb-vermelho-vitrine%3Fsrsltid%3DAd5pg_H1maisNIX_AxscywDiCOmhu72c5gq7As5YflPdkYB7fMTsKDrzKEQ&rct=j&q=&esrc=s&sa=U&ved=0ahUKEwi_-dSOvuH8AhVBqpUCHT32Av8QgOUECL0P&usg=AOvVaw2wI1gZHRdk_Fcg6pUzPYdc\n",
      "R$ 4.249,00 iPhone 12 64GB Azul + brinde https://www.google.com.br/url?url=https://www.malibushop.com.br/apple/iphone-12-64gb-azul-brinde%3Fparceiro%3D1538%26srsltid%3DAd5pg_HMkF4PpKArwDpgI0R0f61GhHxoXSw-HGQH-4ch6_DuAZi9gPqZ_uc&rct=j&q=&esrc=s&sa=U&ved=0ahUKEwi_-dSOvuH8AhVBqpUCHT32Av8QgOUECMwP&usg=AOvVaw3LMeZ11FGJnjQ2shprAyEC\n",
      "R$ 4.598,62 iPhone 12 Seminovo - Vitrine https://www.google.com.br/url?url=https://www.yumeiphones.com.br/iphone-12-seminovo-vitrine%3Fsku%3D67QQFS7MW-blue-64gb%26srsltid%3DAd5pg_ETL1YY_x46DsWrxBFrYgnDmxA1sFUJXxWI3AbIV0HMgLBPnDLrcHE&rct=j&q=&esrc=s&sa=U&ved=0ahUKEwi_-dSOvuH8AhVBqpUCHT32Av8QgOUECNsP&usg=AOvVaw1lZJowsan7EIYumwojpN9s\n",
      "R$ 3.329,10 iPhone 12 64GB - (PRODUCT)RED - Sou Como Novo https://www.google.com.br/url?url=https://www.trocafy.com.br/iphone-12-64gb-productred-sou-como-novo-2553/p%3Fidsku%3D975%26srsltid%3DAd5pg_Efj4Aq-mD_3kcJzCPcy6ImEVQ1CaBCvL7D64dXNExNBDQ-slRTsoI&rct=j&q=&esrc=s&sa=U&ved=0ahUKEwi_-dSOvuH8AhVBqpUCHT32Av8QguUECOwP&usg=AOvVaw2dGoqczw3faVZ7tQ8dFO5K\n",
      "R$ 90,00 Apple - Caixa de iPhone Usada - iPhone 12 Mini Azul 64GB https://www.google.com.br/url?url=https://loja.tudoiphone.com.br/itens-apple/caixa-de-iphone-usada-iphone-12-mini-azul-64gb%3Fparceiro%3D6237&rct=j&q=&esrc=s&sa=U&ved=0ahUKEwi_-dSOvuH8AhVBqpUCHT32Av8QgOUECP4P&usg=AOvVaw0Gm2YvacklqC2QSRPttibH\n",
      "R$ 4.199,00 Iphone 12 - Com Brinde Surpresa da Aproveitei! Preto / 64 GB https://www.google.com.br/url?url=https://www.aproveiteiofertas.com.br/products/iphone-12-com-brinde-surpresa-da-aproveitei%3Fvariant%3D44152943903029%26currency%3DBRL%26utm_medium%3Dproduct_sync%26utm_source%3Dgoogle%26utm_content%3Dsag_organic%26utm_campaign%3Dsag_organic&rct=j&q=&esrc=s&sa=U&ved=0ahUKEwi_-dSOvuH8AhVBqpUCHT32Av8QgOUECI0Q&usg=AOvVaw0KqOIiYaAy8Fb3NuYfCknj\n",
      "R$ 2.225,00 Apple iPhone 12 Mini, 64 GB, branco - totalmente desbloqueado (... https://www.google.com.br/url?url=https://tiendamia.com/br/producto%3Famz%3DB08PNZGSSJ&rct=j&q=&esrc=s&sa=U&ved=0ahUKEwi_-dSOvuH8AhVBqpUCHT32Av8QgOUECJwQ&usg=AOvVaw3oequ-w4pKtsS24d-wDrDD\n",
      "R$ 3.999,00 Apple iPhone 12 mini 64GB/128GB de Armazenamento 4GB RAM Verde / 64GB https://www.google.com.br/url?url=https://storewow.com.br/products/original-apple-iphone-12-mini-5-4-quot-4g-5g-64gb-128gb-256gb-rom-unlock-dual-12mp-a14-chip-ios-lte-unlocked-smartphone-12mini%3Fvariant%3D40073078177880%26currency%3DBRL%26utm_medium%3Dproduct_sync%26utm_source%3Dgoogle%26utm_content%3Dsag_organic%26utm_campaign%3Dsag_organic&rct=j&q=&esrc=s&sa=U&ved=0ahUKEwi_-dSOvuH8AhVBqpUCHT32Av8QgOUECKwQ&usg=AOvVaw1G1XorQdqRhMzKuY0k36HY\n",
      "R$ 4.362,90 Iphone 12 Preto (Semi Novo) (64, Preto) https://www.google.com.br/url?url=https://nextphonesbrasil.com.br/produtos/iphone-12-preto-semi-novo1/%3Fvariant%3D502756537&rct=j&q=&esrc=s&sa=U&ved=0ahUKEwi_-dSOvuH8AhVBqpUCHT32Av8QgOUECLsQ&usg=AOvVaw1H9yb7Y7OlypEDLb-BLtBc\n",
      "R$ 4.465,00 Iphone 12 64 Gb Black | Celular Apple | Usado https://www.google.com.br/url?url=https://www.enjoei.com.br/p/iphone-12-64-gb-black-80121380%3Fg_campaign%3Dgoogle_shopping&rct=j&q=&esrc=s&sa=U&ved=0ahUKEwi_-dSOvuH8AhVBqpUCHT32Av8QgOUECMoQ&usg=AOvVaw0ZQ8ktEUM6JehWm6I-qoF8\n",
      "R$ 6.499,00 Apple iPhone 13 128GB Verde Tela 6,1 12MP https://www.google.com.br/url?url=https://www.apple.com/br/xc/product/MNGK3%3Fcid%3Daos-br-seo-pla&rct=j&q=&esrc=s&sa=U&ved=0ahUKEwi_-dSOvuH8AhVBqpUCHT32Av8QguUECNsQ&usg=AOvVaw2X9J7Al6q0EphfjByxnHzr\n",
      "R$ 4.089,90 (PRONTA ENTREGA) IPhone 12 64GB Preto https://www.google.com.br/url?url=https://www.vtrimports.com/pronta-entrega-iphone-12-64gb-preto&rct=j&q=&esrc=s&sa=U&ved=0ahUKEwi_-dSOvuH8AhVBqpUCHT32Av8QgOUECOoQ&usg=AOvVaw2wLkvcr1OrbYH-teRIiYH7\n",
      "R$ 3.117,88 iPhone 11 Apple 64GB Amarelo 6,1 12MP - Ios https://www.google.com.br/url?url=https://www.submarino.com.br/produto/1593243162%3Fopn%3DXMLGOOGLE%26offerId%3D5e8b8302657407f87178a1a0&rct=j&q=&esrc=s&sa=U&ved=0ahUKEwi_-dSOvuH8AhVBqpUCHT32Av8QguUECPoQ&usg=AOvVaw0hZ05c-gs1MqLHo-YFKsly\n",
      "R$ 105,00 Croco Simples, Apple iPhone 12 / Vermelho https://www.google.com.br/url?url=https://kyraoficial.com/products/personalise-customization-name-leather-soft-case-for-iphone-14-13-12-11-pro-xs-max-x-xr-6-7-8-plus-se-2-luxury-crocodile-cover%3Fcurrency%3DBRL%26variant%3D41655866360014%26utm_medium%3Dcpc%26utm_source%3Dgoogle%26utm_campaign%3DGoogle%2520Shopping%26srsltid%3DAd5pg_FvXPRMWkOmfEFn3ZNRp_-Pc-peVfW7fH8n8oy8EDykxxYjzGIOjNM&rct=j&q=&esrc=s&sa=U&ved=0ahUKEwi_-dSOvuH8AhVBqpUCHT32Av8QgOUECIgR&usg=AOvVaw3Zx1rwlCfpCgtNIm2ZPWXh\n",
      "R$ 2.997,00 Iphone 12 Mini 128GB Branco, Tela de 5,4, Câmera dupla de 12MP, iOS 64GB / Azul https://www.google.com.br/url?url=https://lojamelindaoficial.com/products/original-iphone-12-mini-5g-mobile-phone-4gb-amp-64-128-256gb-ios-a14-5-4-39-39-dual-12mp-iphone-12mini-cellphone-iphone12mini%3Fvariant%3D44292203675969%26currency%3DBRL%26utm_medium%3Dproduct_sync%26utm_source%3Dgoogle%26utm_content%3Dsag_organic%26utm_campaign%3Dsag_organic&rct=j&q=&esrc=s&sa=U&ved=0ahUKEwi_-dSOvuH8AhVBqpUCHT32Av8QgOUECJcR&usg=AOvVaw1G-CKjsQSTkki4dTYTVIud\n",
      "R$ 5.100,00 Apple iPhone 12 (128 Gb) - Azul https://www.google.com.br/url?url=https://alltecheletronicos.mercadoshops.com.br/MLB-2745006889-apple-iphone-12-128-gb-azul-_JM&rct=j&q=&esrc=s&sa=U&ved=0ahUKEwi_-dSOvuH8AhVBqpUCHT32Av8QgOUECKYR&usg=AOvVaw0HybxuXqvAzF8Ck5yiMbqj\n",
      "R$ 4.249,00 iPhone 12 64GB Vermelho + brinde https://www.google.com.br/url?url=https://www.malibushop.com.br/apple/iphone-12-64gb-vermelho-brinde%3Fparceiro%3D1538%26srsltid%3DAd5pg_Hfqifrpg-nWKkIOspZkmED9w3ENyrIJpGFRXljJ3xWPvRrxBaIrOo&rct=j&q=&esrc=s&sa=U&ved=0ahUKEwi_-dSOvuH8AhVBqpUCHT32Av8QgOUECLUR&usg=AOvVaw1bx5-jO3G-Q0a9it6zfwhr\n",
      "R$ 9.350,00 iPhone 14 Pro Apple (256GB) Roxo-Profundo, Tela De 6,1, 5G, Câmera Tripla De 48MP ... https://www.google.com.br/url?url=https://www.casasbahia.com.br/iphone-14-pro-apple-256gb-roxo-profundo-tela-de-61-quot-5g-camera-tripla-de-48mp-12mp-12mp-1547471458/p/1547471458%3Futm_medium%3DCpc%26utm_source%3Dgoogle_freelisting%26IdSku%3D1547471458%26idLojista%3D37582%26tipoLojista%3D3P&rct=j&q=&esrc=s&sa=U&ved=0ahUKEwi_-dSOvuH8AhVBqpUCHT32Av8QguUECMUR&usg=AOvVaw17joIPA7jEfrKSY7SOyO9n\n",
      "R$ 4.167,54 Apple Iphone 12 Desbloqueado de Fabrica - Lacrado https://www.google.com.br/url?url=https://www.worldwidebrasil.com.br/apple-iphone-12-desbloqueado-de-fabrica-lacrado%3Futm_source%3DSite%26utm_medium%3DGoogleMerchant%26utm_campaign%3DGoogleMerchant%26sku%3DRSBN29HS7-64-gb-roxo%26srsltid%3DAd5pg_GVp7lGuQ0QRrTmsfk1MOK62SsurXl5DIcdPi_i31CP9yA2SN6hoM4&rct=j&q=&esrc=s&sa=U&ved=0ahUKEwi_-dSOvuH8AhVBqpUCHT32Av8QgOUECNUR&usg=AOvVaw0wpMWppGExXwZIg0S88G2D\n",
      "R$ 2.600,00 iPhone 12 64gb Preto Seminovo https://www.google.com.br/url?url=https://loja.switchphone.com.br/iphone-12-64gb-preto-seminovo%3Fsrsltid%3DAd5pg_GNVysp4o9XgTMmsDLOvi7zC_RdQSZT-gCPuZO180T5Pi6SNYIrrdM&rct=j&q=&esrc=s&sa=U&ved=0ahUKEwi_-dSOvuH8AhVBqpUCHT32Av8QgOUECOQR&usg=AOvVaw1UMHCpK-qY08fMr10IB-7g\n",
      "R$ 10.699,00 iPhone 12 Pro Max Tela Super Retina XDR 6,7\" 256GB Câmera 12MP - Dourado https://www.google.com.br/url?url=https://www.lojasnossolar.com.br/shopexd.asp%3Fid%3D32008%26srsltid%3DAd5pg_GUptGOYKIxlTf4IV5p5jPl8MwjnBmIi_JJOagyfOB7u7PZ_4I_hxA&rct=j&q=&esrc=s&sa=U&ved=0ahUKEwi_-dSOvuH8AhVBqpUCHT32Av8QgOUECPQR&usg=AOvVaw0gcSj6DCsx8VPvzBHAy-R5\n",
      "R$ 299,90 Combo INext Pro - IPhone 12 https://www.google.com.br/url?url=https://www.inextacessorios.com.br/combo-inext-pro-iphone-12%3Futm_source%3DSite%26utm_medium%3DGoogleMerchant%26utm_campaign%3DGoogleMerchant%26sku%3DPR51&rct=j&q=&esrc=s&sa=U&ved=0ahUKEwi_-dSOvuH8AhVBqpUCHT32Av8QgOUECIIS&usg=AOvVaw3SIW-2XawFyYxevLkMIcoV\n",
      "R$ 2.350,00 iPhone 12 mini 64 GB https://www.google.com.br/url?url=https://am.olx.com.br/regiao-de-manaus/celulares/iphone-12-mini-64-gb-1123648415&rct=j&q=&esrc=s&sa=U&ved=0ahUKEwi_-dSOvuH8AhVBqpUCHT32Av8QgOUECJES&usg=AOvVaw2PXdp6qtWJDZu7bpukLuH_\n",
      "R$ 3.399,15 (Seminovos) iPhone 12 Apple Preto, 64GB https://www.google.com.br/url?url=https://www.taqi.com.br/seminovos-usado-apple-iphone-12-preto-nacional/221635%3Fsrsltid%3DAd5pg_HsVAWKw4-wwnZOtHUnTvcQ9FRKJU9KVNqBA_4lGzeN4JTmiacd4lY&rct=j&q=&esrc=s&sa=U&ved=0ahUKEwi_-dSOvuH8AhVBqpUCHT32Av8QgOUECKES&usg=AOvVaw1NBuZVdUlByeojdPM75SzY\n",
      "R$ 90,00 Apple - Caixa de iPhone Usada - iPhone 12 Mini Preto 64GB https://www.google.com.br/url?url=https://loja.tudoiphone.com.br/itens-apple/caixa-de-iphone-usada-iphone-12-mini-preto-64gb%3Fparceiro%3D6237&rct=j&q=&esrc=s&sa=U&ved=0ahUKEwi_-dSOvuH8AhVBqpUCHT32Av8QgOUECLIS&usg=AOvVaw0cWqzlv8LMQb1KFTwcJZij\n",
      "R$ 4.362,90 Iphone 12 Branco (Semi Novo) (64, Branco) https://www.google.com.br/url?url=https://nextphonesbrasil.com.br/produtos/iphone-12-branco-semi-novo1/%3Fvariant%3D502754145&rct=j&q=&esrc=s&sa=U&ved=0ahUKEwi_-dSOvuH8AhVBqpUCHT32Av8QgOUECMES&usg=AOvVaw2OjK2ld9vAcjZbak_zqRHS\n",
      "R$ 4.100,44 iPhone 12 64GB Tela 6.1 Sem Carregador e Fone Apple - Preto https://www.google.com.br/url?url=https://www.buscape.com.br/lead%3Foid%3D942845168%26sortorder%3D-1%26index%3D%26searchterm%3Dnull%26pagesize%3D-1%26channel%3D%26og%3D19221%26pla%3D2023-01-24T19:44:46.723602&rct=j&q=&esrc=s&sa=U&ved=0ahUKEwi_-dSOvuH8AhVBqpUCHT32Av8QgOUECNAS&usg=AOvVaw38VgyyI2bE5g_rWeXcnh9n\n",
      "R$ 4.173,00 Iphone 12 Preto 64gb Vitrine | Celular Apple | Usado https://www.google.com.br/url?url=https://www.enjoei.com.br/p/iphone-12-preto-64gb-vitrine-72712010%3Fg_campaign%3Dgoogle_shopping&rct=j&q=&esrc=s&sa=U&ved=0ahUKEwi_-dSOvuH8AhVBqpUCHT32Av8QgOUECN8S&usg=AOvVaw2QToa-UHmiaPn2fD4U3gCr\n",
      "R$ 129,90 Capa Super Luxo Ring Apple Iphone (Verde, iPhone 12 Pro) https://www.google.com.br/url?url=https://www.e-capinhas.com.br/produtos/capa-super-luxo-ring-apple-iphone/%3Fpf%3Dgs%26variant%3D372036327&rct=j&q=&esrc=s&sa=U&ved=0ahUKEwi_-dSOvuH8AhVBqpUCHT32Av8QgOUECO0S&usg=AOvVaw0wA8WlIBJlP-667XXdyx4u\n",
      "R$ 4.299,00 iPhone 12 64GB Branco - Apple https://www.google.com.br/url?url=https://www.idevicestore.com.br/produtos/iphone-12-64gb-branco-apple/&rct=j&q=&esrc=s&sa=U&ved=0ahUKEwi_-dSOvuH8AhVBqpUCHT32Av8QgOUECPwS&usg=AOvVaw2Q82pgh07l8XQzLJCliP79\n"
     ]
    }
   ],
   "source": [
    "driver.get(\"https://www.google.com.br/\")\n",
    "\n",
    "produto = 'iphone 12 64gb'\n",
    "termos_banidos = 'mini watch'\n",
    "preco_minimo = 3000\n",
    "preco_maximo = 3500\n",
    "\n",
    "driver.find_element(By.XPATH, '/html/body/div[1]/div[3]/form/div[1]/div[1]/div[1]/div/div[2]/input').send_keys(produto)\n",
    "driver.find_element(By.XPATH, '/html/body/div[1]/div[3]/form/div[1]/div[1]/div[1]/div/div[2]/input').send_keys(Keys.ENTER)\n",
    "\n",
    "elementos = driver.find_elements(By.CLASS_NAME, 'hdtb-mitem')\n",
    "\n",
    "for elemento in elementos:\n",
    "    if \"Shopping\" in elemento.text:\n",
    "        elemento.click()\n",
    "        break\n",
    "\n",
    "lista_resultados = driver.find_elements(By.CLASS_NAME, 'i0X6df')\n",
    "\n",
    "for resultado in lista_resultados:\n",
    "    preco = resultado.find_element(By.CLASS_NAME, 'a8Pemb').text\n",
    "    nome = resultado.find_element(By.CLASS_NAME, 'tAxDx').text\n",
    "\n",
    "    child = resultado.find_element(By.CLASS_NAME, 'XrAfOe')\n",
    "    parent = child.find_element(By.XPATH, '..')\n",
    "    link = parent.get_attribute('href')\n",
    "    print(preco, nome, link)\n"
   ]
  }
 ],
 "metadata": {
  "kernelspec": {
   "display_name": "Python 3",
   "language": "python",
   "name": "python3"
  },
  "language_info": {
   "codemirror_mode": {
    "name": "ipython",
    "version": 3
   },
   "file_extension": ".py",
   "mimetype": "text/x-python",
   "name": "python",
   "nbconvert_exporter": "python",
   "pygments_lexer": "ipython3",
   "version": "3.10.4"
  },
  "orig_nbformat": 4,
  "vscode": {
   "interpreter": {
    "hash": "ca39f88a2d38a95affbacc4b81fd00a2dd957c0206b925676ce258144ab36f3b"
   }
  }
 },
 "nbformat": 4,
 "nbformat_minor": 2
}
