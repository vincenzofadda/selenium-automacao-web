{
 "cells": [
  {
   "attachments": {},
   "cell_type": "markdown",
   "metadata": {},
   "source": [
    "## Inicialização do Navegador"
   ]
  },
  {
   "cell_type": "code",
   "execution_count": null,
   "metadata": {},
   "outputs": [],
   "source": [
    "from selenium import webdriver\n",
    "from webdriver_manager.chrome import ChromeDriverManager\n",
    "from selenium.webdriver.common.keys import Keys\n",
    "from selenium.webdriver.common.by import By\n",
    "import pandas as pd\n",
    "import time\n",
    "\n",
    "driver = webdriver.Chrome(ChromeDriverManager().install())\n",
    "\n",
    "tabela_produtos = pd.read_excel(\"buscas.xlsx\")\n",
    "display(tabela_produtos)"
   ]
  },
  {
   "attachments": {},
   "cell_type": "markdown",
   "metadata": {},
   "source": [
    "## Definição das funções de busca do Google Shopping, Buscape e das funções de verificação dos termos banidos e verificação dos nomes dos produtos"
   ]
  },
  {
   "cell_type": "code",
   "execution_count": null,
   "metadata": {},
   "outputs": [],
   "source": [
    "def verificar_termos_banidos(lista_termos_banidos, nome):\n",
    "    tem_termos_banidos = False\n",
    "    for termo in lista_termos_banidos:\n",
    "        if termo in nome:\n",
    "            tem_termos_banidos = True\n",
    "    return tem_termos_banidos\n",
    "\n",
    "def verificar_nomes_produtos(lista_nomes_produto, nome):\n",
    "    tem_nomes_produto = True\n",
    "    for termo in lista_nomes_produto:\n",
    "        if termo not in nome:\n",
    "            tem_nomes_produto = False\n",
    "    return tem_nomes_produto\n",
    "\n",
    "def busca_google_shopping(driver, produto, termos_banidos, preco_minimo, preco_maximo):\n",
    "\n",
    "    produto.lower()\n",
    "    termos_banidos.lower()\n",
    "\n",
    "    lista_nomes_produto = produto.split(\" \")\n",
    "    lista_termos_banidos = termos_banidos.split(\" \")\n",
    "\n",
    "    lista_ofertas_encontradas = []\n",
    "\n",
    "    preco_minimo = float(preco_minimo)\n",
    "    preco_maximo = float(preco_maximo)\n",
    "\n",
    "    driver.get(\"https://www.google.com.br/\")\n",
    "\n",
    "    driver.find_element(By.XPATH, '/html/body/div[1]/div[3]/form/div[1]/div[1]/div[1]/div/div[2]/input').send_keys(produto, Keys.ENTER)\n",
    "\n",
    "    elementos = driver.find_elements(By.CLASS_NAME, 'hdtb-mitem')\n",
    "\n",
    "    for elemento in elementos:\n",
    "        if \"Shopping\" in elemento.text:\n",
    "            elemento.click()\n",
    "            break\n",
    "\n",
    "    lista_resultados = driver.find_elements(By.CLASS_NAME, 'i0X6df')\n",
    "\n",
    "    for resultado in lista_resultados:\n",
    "        nome = resultado.find_element(By.CLASS_NAME, 'tAxDx').text.lower()\n",
    " \n",
    "        tem_termos_banidos = verificar_termos_banidos(lista_termos_banidos, nome)\n",
    "        tem_nomes_produto = verificar_nomes_produtos(lista_nomes_produto, nome)\n",
    "    \n",
    "        if tem_termos_banidos == False and tem_nomes_produto:\n",
    "            preco = resultado.find_element(By.CLASS_NAME, 'a8Pemb').text.replace(\"R$\", \"\").replace(\" \", \"\").replace(\".\", \"\").replace(\",\", \".\")\n",
    "            preco = float(preco)\n",
    "\n",
    "            if preco_minimo <= preco <= preco_maximo:\n",
    "\n",
    "                child = resultado.find_element(By.CLASS_NAME, 'XrAfOe')\n",
    "                parent = child.find_element(By.XPATH, '..')\n",
    "                link = parent.get_attribute('href')\n",
    "\n",
    "                lista_ofertas_encontradas.append((nome, preco, link))\n",
    "    return lista_ofertas_encontradas\n",
    "\n",
    "\n",
    "\n",
    "def busca_buscape(driver, produto, termos_banidos, preco_minimo, preco_maximo):\n",
    "    produto.lower()\n",
    "    termos_banidos.lower()\n",
    "\n",
    "    lista_nomes_produto = produto.split(\" \")\n",
    "    lista_termos_banidos = termos_banidos.split(\" \")\n",
    "\n",
    "    lista_ofertas_encontradas = []   \n",
    "    \n",
    "    preco_minimo = float(preco_minimo)\n",
    "    preco_maximo = float(preco_maximo)\n",
    "\n",
    "    driver.get('https://www.buscape.com.br/')\n",
    "\n",
    "    driver.find_element(By.XPATH, '//*[@id=\"new-header\"]/div[1]/div/div/div[3]/div/div/div[2]/div/div[1]/input').send_keys(produto, Keys.ENTER)\n",
    "\n",
    "    while len(driver.find_elements(By.CLASS_NAME, 'Select_Select__1S7HV')) < 1:\n",
    "        time.sleep(1)\n",
    "\n",
    "    lista_resultados = driver.find_elements(By.CLASS_NAME, 'SearchCard_ProductCard_Inner__7JhKb')\n",
    "\n",
    "    for resultado in lista_resultados:\n",
    "        preco = resultado.find_element(By.CLASS_NAME, 'Text_MobileHeadingS__Zxam2').text\n",
    "\n",
    "        nome = resultado.find_element(By.CLASS_NAME, 'SearchCard_ProductCard_Name__ZaO5o').text\n",
    "        nome = nome.lower()\n",
    "    \n",
    "        link = resultado.get_attribute('href')\n",
    "\n",
    "        tem_termos_banidos = verificar_termos_banidos(lista_termos_banidos, nome)\n",
    "        tem_nomes_produto = verificar_nomes_produtos(lista_nomes_produto, nome)\n",
    "\n",
    "        if tem_termos_banidos == False and tem_nomes_produto:\n",
    "            preco = preco.replace(\"R$\", \"\").replace(\" \", \"\").replace(\".\", \"\").replace(\",\", \".\")\n",
    "            preco = float(preco)\n",
    "\n",
    "            if preco_minimo <= preco <= preco_maximo:\n",
    "                lista_ofertas_encontradas.append((nome, preco, link))\n",
    "    return lista_ofertas_encontradas\n"
   ]
  },
  {
   "attachments": {},
   "cell_type": "markdown",
   "metadata": {},
   "source": [
    "## Criação da tabela das ofertas encontradas"
   ]
  },
  {
   "cell_type": "code",
   "execution_count": null,
   "metadata": {},
   "outputs": [],
   "source": [
    "tabela_ofertas = pd.DataFrame()\n",
    "\n",
    "for linha in tabela_produtos.index:\n",
    "    produto = tabela_produtos.loc[linha, \"Nome\"]\n",
    "    termos_banidos = tabela_produtos.loc[linha, \"Termos banidos\"]\n",
    "\n",
    "    preco_minimo = tabela_produtos.loc[linha, \"Preço mínimo\"]\n",
    "    preco_maximo = tabela_produtos.loc[linha, \"Preço máximo\"]\n",
    "\n",
    "    lista_ofertas_google_shopping = busca_google_shopping(driver, produto, termos_banidos, preco_minimo, preco_maximo)\n",
    "    if lista_ofertas_google_shopping:\n",
    "        tabela_google_shopping = pd.DataFrame(lista_ofertas_google_shopping, columns = ['produto', 'preco', 'link'])\n",
    "        tabela_ofertas = pd.concat([tabela_ofertas, tabela_google_shopping])\n",
    "    else:\n",
    "        tabela_google_shopping = None\n",
    "\n",
    "    lista_ofertas_buscape = busca_buscape(driver, produto, termos_banidos, preco_minimo, preco_maximo)\n",
    "    if lista_ofertas_buscape:\n",
    "        tabela_buscape = pd.DataFrame(lista_ofertas_buscape, columns = ['produto', 'preco', 'link'])\n",
    "        tabela_ofertas = pd.concat([tabela_ofertas, tabela_buscape])\n",
    "    else:\n",
    "        tabela_buscape = None\n",
    "\n",
    "display(tabela_ofertas)\n",
    "    "
   ]
  },
  {
   "attachments": {},
   "cell_type": "markdown",
   "metadata": {},
   "source": [
    "## Exportação para o Excel"
   ]
  },
  {
   "cell_type": "code",
   "execution_count": null,
   "metadata": {},
   "outputs": [],
   "source": [
    "tabela_ofertas.to_excel(\"Ofertas.xlsx\", index=False)"
   ]
  },
  {
   "attachments": {},
   "cell_type": "markdown",
   "metadata": {},
   "source": [
    "## Envio da tabela por e-mail"
   ]
  },
  {
   "cell_type": "code",
   "execution_count": null,
   "metadata": {},
   "outputs": [],
   "source": [
    "import win32com.client\n",
    "\n",
    "if len(tabela_ofertas) > 0:\n",
    "    outlook = win32com.client.Dispatch('outlook.application')\n",
    "    mail = outlook.CreateItem(0)\n",
    "    mail.To = 'vincenzofortests@gmail.com'\n",
    "    mail.Subject = 'Produto(s) encontrado(s) na faixa de preço desejada'\n",
    "    mail.HTMLBody = f\"\"\"\n",
    "    <p>Prezados,</p>\n",
    "    <p>Esses são os produtos em oferta que estão dentro da faixa de preço desejada</p>\n",
    "    {tabela_ofertas.to_html(index=False)}\n",
    "    <p>Att.</p>\n",
    "    \"\"\"\n",
    "    mail.Send()"
   ]
  }
 ],
 "metadata": {
  "kernelspec": {
   "display_name": "Python 3",
   "language": "python",
   "name": "python3"
  },
  "language_info": {
   "codemirror_mode": {
    "name": "ipython",
    "version": 3
   },
   "file_extension": ".py",
   "mimetype": "text/x-python",
   "name": "python",
   "nbconvert_exporter": "python",
   "pygments_lexer": "ipython3",
   "version": "3.10.4"
  },
  "orig_nbformat": 4,
  "vscode": {
   "interpreter": {
    "hash": "ca39f88a2d38a95affbacc4b81fd00a2dd957c0206b925676ce258144ab36f3b"
   }
  }
 },
 "nbformat": 4,
 "nbformat_minor": 2
}
